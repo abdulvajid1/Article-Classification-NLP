{
 "cells": [
  {
   "cell_type": "code",
   "execution_count": 2,
   "metadata": {},
   "outputs": [],
   "source": [
    "import pandas as pd\n",
    "import seaborn as sns\n",
    "import matplotlib.pyplot as plt\n",
    "import numpy as np"
   ]
  },
  {
   "cell_type": "code",
   "execution_count": 7,
   "metadata": {},
   "outputs": [],
   "source": [
    "# Read data\n",
    "df = pd.read_csv('Articles.csv',encoding='latin1')"
   ]
  },
  {
   "cell_type": "code",
   "execution_count": 32,
   "metadata": {},
   "outputs": [
    {
     "name": "stdout",
     "output_type": "stream",
     "text": [
      "<class 'pandas.core.frame.DataFrame'>\n",
      "RangeIndex: 2692 entries, 0 to 2691\n",
      "Data columns (total 4 columns):\n",
      " #   Column    Non-Null Count  Dtype \n",
      "---  ------    --------------  ----- \n",
      " 0   Article   2692 non-null   object\n",
      " 1   Date      2692 non-null   object\n",
      " 2   Heading   2692 non-null   object\n",
      " 3   NewsType  2692 non-null   object\n",
      "dtypes: object(4)\n",
      "memory usage: 84.3+ KB\n"
     ]
    }
   ],
   "source": [
    "df.info()"
   ]
  },
  {
   "cell_type": "code",
   "execution_count": 34,
   "metadata": {},
   "outputs": [
    {
     "data": {
      "text/plain": [
       "107"
      ]
     },
     "execution_count": 34,
     "metadata": {},
     "output_type": "execute_result"
    }
   ],
   "source": [
    "df.duplicated().sum()"
   ]
  },
  {
   "cell_type": "code",
   "execution_count": null,
   "metadata": {},
   "outputs": [],
   "source": [
    "df"
   ]
  },
  {
   "cell_type": "code",
   "execution_count": null,
   "metadata": {},
   "outputs": [],
   "source": []
  },
  {
   "cell_type": "code",
   "execution_count": null,
   "metadata": {},
   "outputs": [],
   "source": []
  },
  {
   "cell_type": "code",
   "execution_count": null,
   "metadata": {},
   "outputs": [],
   "source": []
  },
  {
   "cell_type": "code",
   "execution_count": 29,
   "metadata": {},
   "outputs": [
    {
     "data": {
      "text/plain": [
       "array(['strong>WASHINGTON: Republican Donald Trump scored a series of shocking wins in battleground U.S. states including Florida and Ohio on Tuesday, opening a path to the White House for the political outsider and rattling world markets that had counted on a win by Democrat Hillary Clinton.</strongWith investors worried a Trump victory could cause economic and global uncertainty, the U.S. dollar sank and stock markets plummeted in wild Asian trading. Opinion polls before Election Day had given Clinton a slim lead.Mexico\\'s peso plunged to its lowest-ever levels as Trump\\'s chances of winning the presidency increased. Concerns of a Trump victory have weighed heavily on the peso for months because of his threats to rip up a free trade agreement with Mexico and tax money sent home by migrants to pay to build a wall on the southern U.S. border.Trump surged to wins in Florida, Ohio, Iowa and North Carolina, and Fox News projected a win for him in Wisconsin. With voting completed in 49 of the 50 U.S. states, he also narrowly led in Michigan and New Hampshire, edging him closer to 270 Electoral College votes needed to win the state-by-state fight for the White House.Shortly after Fox called Wisconsin for Trump, supporters at his election evening rally in New York began to chant \"Lock her up\" - a common refrain on the campaign trail for the former U.S. secretary of state repeatedly dubbed \"Crooked Hillary\" by Trump.Clinton still had ways to reach 270 electoral votes, but she would have to sweep the remaining battleground states including Pennsylvania, Michigan and Nevada, and pull off an upset win in Arizona.Trump captured conservative states in the South and Midwest, while Clinton swept several states on the East Coast and Illinois in the Midwest.After running close throughout the night in Virginia, Clinton pulled out the swing state that is home to her running mate, Senator Tim Kaine. But TrumpAt 8:55 p.m. EST, Clinton acknowledged a battle that was unexpectedly tight given her edge in opinion polls going into Election Day.She tweeted: \"This team has so much to be proud of. Whatever happens tonight, thank you for everything.\"As of 11:40 p.m. EST, Trump had 244 electoral votes to Clinton\\x92s 209, with U.S. television networks projecting the winner in 41 of the 50 states and the District of Columbia.A wealthy real-estate developer and former reality TV host, Trump rode a wave of anger toward Washington insiders to challenge Clinton, whose gold-plated establishment resume includes stints as a first lady, U.S. senator and secretary of state.strong>UNPOPULAR CANDIDATES</strongBoth candidates had historically low popularity ratings, although Trump\\'s were worse than Clinton\\'s, in an election that many voters characterized as a choice between two unpleasant alternatives.Before Tuesday\\'s voting, Clinton led Trump, 44 percent to 39 percent in the last Reuters/Ipsos national tracking poll. A Reuters/Ipsos States of the Nation poll gave her a 90 percent chance of defeating Trump and becoming the first woman elected U.S. president.Also at stake on Tuesday was control of Congress. Television networks projected Republicans would retain control of the House of Representatives, where all 435 seats were up for grabs.In the Senate, where Republicans were defending a slim four-seat majority, Democrats scored their first breakthrough in Illinois when Republican Senator Mark Kirk lost re-election. But Republicans Rob Portman in Ohio and Marco Rubio in Florida won high-profile Senate re-election fights.In a presidential campaign that focused more on the character of the candidates than on policy, Clinton, 69, and Trump, 70, accused each other of being fundamentally unfit to lead the country.Trump entered the race 17 months ago and survived a series of seemingly crippling blows, many of them self-inflicted, including the emergence in October of a 2005 video in which he boasted about making unwanted sexual advances on women. He apologized but within days, several women emerged to say he had groped them, allegations he denied.He was judged the loser of all three presidential debates with Clinton and she led him by varying margins for months in opinion polls.Trump won avid support among a core base of white non-college educated workers with his promise to be the \"greatest jobs president that God ever created.\" He has vowed to impose a 35 percent tariff on goods exported to the United States by U.S. companies that went abroad.His volatile nature and unorthodox proposals led to campaign feuds with a long list of people, including Muslims, the disabled, Republican U.S. Senator John McCain, Fox News anchor Megyn Kelly, the family of a slain Muslim-American soldier, a Miss Universe winner and a federal judge of Mexican heritage.',\n",
       "       'strong>LONDON: The world will store unwanted oil for most of 2016 as declines in U.S. output take time and OPEC is unlikely to cut a deal with other producers to reduce ballooning output, the International Energy Agency said.</strongThe agency, which coordinates energy policies of industrialised countries, said that while it did not believe oil prices could follow some of the most extreme forecasts and fall to as low as $10 per barrel, it was equally hard to see how they could rise significantly from current levels.The Paris-based IEA trimmed its forecast for 2016 oil demand growth, which now stands at 1.17 million barrels per day (bpd) following a five-year high of 1.6 million in 2015.It cut its call on OPEC crude for 2016 by 100,000 bpd to 31.7 million bpd. That figure is much lower than OPEC\\'s January output of 32.63 million bpd.\"Persistent speculation about a deal between OPEC and leading non-OPEC producers to cut output appears to be just that: speculation. It is OPEC\\'s business whether or not it makes output cuts either alone or in concert with other producers but the likelihood of coordinated cuts is very low,\" the IEA said.Oil prices collapsed over the past 18 months to below $30 a barrel from as high as $115 as OPEC opened its taps to drive higher-cost producers such as U.S. shale companies out of the market.Low oil prices have spurred global demand but it was not enough to absorb all crude produced. As a result, unwanted oil went into storage, leading to record global stockpiles of over 3 billion barrels.U.S. shale oil output has started to decline because of low prices and OPEC has said it sees the market rebalancing sometime later in 2016 when demand finally meets supply.But the IEA said supply may still exceed demand throughout the whole of 2016 and added it saw non-OPEC output falling by just 0.6 million bpd in 2016.\"The number could be higher of course and many senior international oil company figures have said so but there is a lingering feeling that the big fall-off in production from U.S. shale producers is taking an awful long time to happen. Perhaps resilience still has some way to go,\" the IEA said.The agency also said it saw the dollar remaining strong as it benefits from its safe-haven status, meaning more downward pressure on oil prices.With weaker global oil demand, likely new gains in Iraqi, Iranian and Saudi output, low chances of an OPEC deal, resilient U.S. production and a strong dollar - the IEA said the global oil glut was only poised to worsen.It said that even if OPEC production remained flat, global stocks would build by 2 million bpd in the first quarter, followed by a 1.5-million-bpd build in the second quarter.\"Supply and demand data for the second half of the year suggests more stock building, this time by 0.3 million bpd. If these numbers prove to be accurate, and with the market already awash in oil, it is very hard to see how oil prices can rise significantly in the short term. In these conditions the short-term risk to the downside has increased.\\x94',\n",
       "       'KARACHI: The Pakistani rupee on Wednesday slipped to a fresh two-year low of 105.80 against the US dollar in the interbank market, falling 56 paisa from its previous closing. In the open market, the rupee was down 30 paisa from Tuesday\\'s closing, trading at 105.60 against the USD. Due to the rise in the value of the dollar by Rs 1.40 in the last two days, Pakistan\\'s external debt is likely to see an increase of Rs 84 billion, analysts said. The recent climb of the dollar against the rupee has been attributed to a strong demand of the greenback from importers and its outflows from the country. Currency dealers say the growing demand is due to oil-related payments.\"There were a few import payments in the market and banks were already short of them, and as the rupee crossed the 104.50 level it triggered \\'stop\\', surging the rupee past the 105 figure,\" Eman Khan from Tresmark, an application that tracks financial markets, told The News on Tuesday. \"It\\'s no coincidence that it happened on a day when the Finance minister initiated meeting with the IMF (International Monetary Fund) and also when economic managers are assessing the damage from the deadly earthquake,\" Khan said. The talks between the IMF officials and the Pakistan\\'s authorities on the ninth review of the extended fund facility program started on Monday in Dubai. Despite strong foreign exchange reserves and narrowing current account deficit, the rupee is constantly losing its value. The rupee depreciated 3.5 percent since the beginning of the current fiscal year.                        \\r\\n\\r\\n\\r\\n\\r\\n\\r\\n\\r\\n\\r\\n\\r\\n\\r\\n\\r\\n\\r\\n',\n",
       "       'London: Oil prices edged higher on Tuesday as the market seeks to build on strong gains in April following massive falls earlier in the year.US benchmark West Texas Intermediate for delivery in June won 56 cents to $59.49 a barrel.Brent North Sea crude for June won 47 cents to stand at $66.93 a barrel in London midday deals.After slumping at the start of the year, oil prices rose by about a fifth in value during April owing to several factors including concerns about unrest in Yemen, the weakening dollar and fewer US rigs in operation, analysts said.However, prices remain well down after plunging almost 60 percent between June and the start of 2015 on the back of a global supply glut and ramped up production.\"Crude oil producers in the US have significantly cut back output in an attempt to address the significant supply overhang which has exerted downward pressure on... prices since June last year,\" Kash Kamal, senior research analyst at Sucden brokers said on Tuesday.The International Monetary Fund has said that Gulf oil exporters must reduce spending, including subsidies, and diversify their economies to cope with lower revenues caused by the sharp drop in crude prices.The wealthy monarchies, however, should \"not react in a knee-jerk way to lower oil prices\", the IMF Middle East and Central Asia chief Masood Ahmed told AFP in an interview Monday.\"Saudi Arabia seem committed to defending their market share and have even increased output to over 10 million barrels per day in April,\" said Kamal.\"Support for higher crude prices has partly come from a weaker dollar,\" he added.A weaker dollar makes oil priced in the US unit cheaper for holders of others currencies, boosting demand. (AFP)                        \\r\\n\\r\\n\\r\\n\\r\\n\\r\\n\\r\\n\\r\\n\\r\\n\\r\\n\\r\\n\\r\\n',\n",
       "       'strong>NEW YORK/LONDON: Oil prices rose on Thursday but fell as much as 35 percent for the year after a race to pump by Middle East crude producers and U.S. shale oil drillers created an unprecedented global glut that may take through 2016 to clear.</strongGlobal oil benchmark Brent and U.S. crude\\'s West Texas Intermediate (WTI) futures rose between 1 and 2 percent on the day on short-covering and buying support in a thinly traded market ahead of the New Year holiday.But for 2015, both benchmarks fell double-digits for a second straight year as Saudi Arabia and other members of the once-powerful Organization of the Petroleum Exporting Countries (OPEC) again failed to boost oil prices.The U.S. shale industry, meanwhile, surprised the world again with its ability to survive rock-bottom crude prices, churning out more supply than expected, even as the sell-off in oil slashed by two-thirds the number of drilling rigs in the country from a year ago.The United States also took a historic move in repealing a 40-year ban on U.S. crude exports to countries outside Canada, acknowledging the industry\\'s growth.\"You do have to tip your hat to the U.S. shale industry and their ongoing ability to drive down costs and hang in there, albeit by their fingernails,\" said John Kilduff, a partner at Again Capital, an energy hedge fund in New York.Brent crude settled up 82 cents at $37.28 a barrel, rebounding from a near 11-year low of $36.10 hit earlier in the session. For the month, it was down 16 percent and for the year, it fell 35 percent. In 2014, Brent lost 48 percent.WTI rose 44 cents to $37.04 a barrel. It slid 11 percent in December and 30 percent for the year, after a 46 percent loss in 2014.The immediate outlook for oil prices remains bleak. Goldman Sachs has said prices as low as $20 per barrel might be necessary to push enough production out of business and allow a rebalancing of the market.Adding to oil\\'s woes, floods across the Midwestern United States were threatening refineries and pipelines from Illinois to Louisiana, potentially swelling the glut of domestic crude at a time when stockpiles were already at record highs.A mild winter so far in the Northern Hemisphere due to the El Niño weather phenomenon has also slashed demand for heating oil. U.S. heating oil prices fell 40 percent for a second year in a row.\"We have brimming oil inventories in Europe,\" Bjarne Schieldrop, chief commodity analyst at SEB in Oslo, said. \"And our predictions are that oil inventories in Asia are going to get closer to saturation in the first quarter.\"Morgan Stanley said in its outlook for next year that \"headwinds (are) growing for 2016 oil.\"The bank cited ongoing increases in available global supplies, despite some cuts by U.S. shale drillers. \"The hope for a rebalancing in 2016 continues to suffer serious setbacks,\" it said.strong>INDUSTRY PAIN</strongBrent prices briefly hit a 2004 bottom below $36 a barrel last week, effectively wiping out gains from a decade-long commodity super-cycle sparked by China\\'s once-inexorable growth and energy demand boom.The downturn in oil has caused pain across the energy supply chain, including to shippers, private oil drillers and oil-dependent countries from Venezuela and Russia to the Middle East.Analysts estimate global crude production exceeds demand anywhere between half a million and 2 million barrels a day. This means even the most aggressive estimates of expected U.S. production cuts of 500,000 bpd for 2016 would be unlikely to fully rebalance the market.Oil began falling in mid-2014 as surging output from OPEC, Russia and U.S. shale producers outpaced demand. The downturn accelerated at the end of 2014 after a Saudi-led OPEC decision to keep production high to defend global market share rather than cut output to support prices.OPEC failed to agree on any production targets at its Dec. 4 meeting in Vienna, cementing its decision to protect market share, as the world braces for the return of Iranian crude exports to the market after the lifting of Western sanctions against Tehran.Russia is also showing no signs of reining in production, prompting traders, hedge fund managers and other speculators to establish record high active short positions in the market that would profit from further crude price falls.'],\n",
       "      dtype=object)"
      ]
     },
     "execution_count": 29,
     "metadata": {},
     "output_type": "execute_result"
    }
   ],
   "source": [
    "df['Article'].sample(5).values"
   ]
  },
  {
   "cell_type": "code",
   "execution_count": 30,
   "metadata": {},
   "outputs": [
    {
     "data": {
      "text/plain": [
       "array(['US consumer confidence steady in July',\n",
       "       'Shoaib Malik rules out grouping in Pakistani ',\n",
       "       'England declare at 589 8 against Paki',\n",
       "       'Pakistan win toss ask England bat third ',\n",
       "       'Sania Mirza receives Indias Padma Bhushan award'], dtype=object)"
      ]
     },
     "execution_count": 30,
     "metadata": {},
     "output_type": "execute_result"
    }
   ],
   "source": [
    "df['Heading'].sample(5).values"
   ]
  },
  {
   "cell_type": "code",
   "execution_count": 31,
   "metadata": {},
   "outputs": [
    {
     "data": {
      "text/html": [
       "<div>\n",
       "<style scoped>\n",
       "    .dataframe tbody tr th:only-of-type {\n",
       "        vertical-align: middle;\n",
       "    }\n",
       "\n",
       "    .dataframe tbody tr th {\n",
       "        vertical-align: top;\n",
       "    }\n",
       "\n",
       "    .dataframe thead th {\n",
       "        text-align: right;\n",
       "    }\n",
       "</style>\n",
       "<table border=\"1\" class=\"dataframe\">\n",
       "  <thead>\n",
       "    <tr style=\"text-align: right;\">\n",
       "      <th></th>\n",
       "      <th>Article</th>\n",
       "      <th>Date</th>\n",
       "      <th>Heading</th>\n",
       "      <th>NewsType</th>\n",
       "    </tr>\n",
       "  </thead>\n",
       "  <tbody>\n",
       "    <tr>\n",
       "      <th>0</th>\n",
       "      <td>KARACHI: The Sindh government has decided to b...</td>\n",
       "      <td>1/1/2015</td>\n",
       "      <td>sindh govt decides to cut public transport far...</td>\n",
       "      <td>business</td>\n",
       "    </tr>\n",
       "    <tr>\n",
       "      <th>1</th>\n",
       "      <td>HONG KONG: Asian markets started 2015 on an up...</td>\n",
       "      <td>1/2/2015</td>\n",
       "      <td>asia stocks up in new year trad</td>\n",
       "      <td>business</td>\n",
       "    </tr>\n",
       "    <tr>\n",
       "      <th>2</th>\n",
       "      <td>HONG KONG:  Hong Kong shares opened 0.66 perce...</td>\n",
       "      <td>1/5/2015</td>\n",
       "      <td>hong kong stocks open 0.66 percent lower</td>\n",
       "      <td>business</td>\n",
       "    </tr>\n",
       "    <tr>\n",
       "      <th>3</th>\n",
       "      <td>HONG KONG: Asian markets tumbled Tuesday follo...</td>\n",
       "      <td>1/6/2015</td>\n",
       "      <td>asian stocks sink euro near nine year</td>\n",
       "      <td>business</td>\n",
       "    </tr>\n",
       "    <tr>\n",
       "      <th>4</th>\n",
       "      <td>NEW YORK: US oil prices Monday slipped below $...</td>\n",
       "      <td>1/6/2015</td>\n",
       "      <td>us oil prices slip below 50 a barr</td>\n",
       "      <td>business</td>\n",
       "    </tr>\n",
       "    <tr>\n",
       "      <th>...</th>\n",
       "      <td>...</td>\n",
       "      <td>...</td>\n",
       "      <td>...</td>\n",
       "      <td>...</td>\n",
       "    </tr>\n",
       "    <tr>\n",
       "      <th>2687</th>\n",
       "      <td>strong&gt;DUBAI: Dubai International Airport and ...</td>\n",
       "      <td>3/25/2017</td>\n",
       "      <td>Laptop ban hits Dubai for 11m weekend traveller</td>\n",
       "      <td>business</td>\n",
       "    </tr>\n",
       "    <tr>\n",
       "      <th>2688</th>\n",
       "      <td>strong&gt;BEIJING: Former Prime Minister, Shaukat...</td>\n",
       "      <td>3/26/2017</td>\n",
       "      <td>Pak China relations not against any third coun...</td>\n",
       "      <td>business</td>\n",
       "    </tr>\n",
       "    <tr>\n",
       "      <th>2689</th>\n",
       "      <td>strong&gt;WASHINGTON: Uber has grounded its fleet...</td>\n",
       "      <td>3/26/2017</td>\n",
       "      <td>Uber grounds self driving cars after accid</td>\n",
       "      <td>business</td>\n",
       "    </tr>\n",
       "    <tr>\n",
       "      <th>2690</th>\n",
       "      <td>strong&gt;BEIJING: The New Development Bank plans...</td>\n",
       "      <td>3/27/2017</td>\n",
       "      <td>New Development Bank plans joint investments i...</td>\n",
       "      <td>business</td>\n",
       "    </tr>\n",
       "    <tr>\n",
       "      <th>2691</th>\n",
       "      <td>strong&gt;KARACHI: Karachi-based technology incub...</td>\n",
       "      <td>3/27/2017</td>\n",
       "      <td>Google powered Startup Weekend energizing prou...</td>\n",
       "      <td>business</td>\n",
       "    </tr>\n",
       "  </tbody>\n",
       "</table>\n",
       "<p>2692 rows × 4 columns</p>\n",
       "</div>"
      ],
      "text/plain": [
       "                                                Article       Date  \\\n",
       "0     KARACHI: The Sindh government has decided to b...   1/1/2015   \n",
       "1     HONG KONG: Asian markets started 2015 on an up...   1/2/2015   \n",
       "2     HONG KONG:  Hong Kong shares opened 0.66 perce...   1/5/2015   \n",
       "3     HONG KONG: Asian markets tumbled Tuesday follo...   1/6/2015   \n",
       "4     NEW YORK: US oil prices Monday slipped below $...   1/6/2015   \n",
       "...                                                 ...        ...   \n",
       "2687  strong>DUBAI: Dubai International Airport and ...  3/25/2017   \n",
       "2688  strong>BEIJING: Former Prime Minister, Shaukat...  3/26/2017   \n",
       "2689  strong>WASHINGTON: Uber has grounded its fleet...  3/26/2017   \n",
       "2690  strong>BEIJING: The New Development Bank plans...  3/27/2017   \n",
       "2691  strong>KARACHI: Karachi-based technology incub...  3/27/2017   \n",
       "\n",
       "                                                Heading  NewsType  \n",
       "0     sindh govt decides to cut public transport far...  business  \n",
       "1                       asia stocks up in new year trad  business  \n",
       "2              hong kong stocks open 0.66 percent lower  business  \n",
       "3                asian stocks sink euro near nine year   business  \n",
       "4                    us oil prices slip below 50 a barr  business  \n",
       "...                                                 ...       ...  \n",
       "2687    Laptop ban hits Dubai for 11m weekend traveller  business  \n",
       "2688  Pak China relations not against any third coun...  business  \n",
       "2689         Uber grounds self driving cars after accid  business  \n",
       "2690  New Development Bank plans joint investments i...  business  \n",
       "2691  Google powered Startup Weekend energizing prou...  business  \n",
       "\n",
       "[2692 rows x 4 columns]"
      ]
     },
     "execution_count": 31,
     "metadata": {},
     "output_type": "execute_result"
    }
   ],
   "source": [
    "df"
   ]
  },
  {
   "cell_type": "code",
   "execution_count": null,
   "metadata": {},
   "outputs": [],
   "source": []
  }
 ],
 "metadata": {
  "kernelspec": {
   "display_name": "base",
   "language": "python",
   "name": "python3"
  },
  "language_info": {
   "codemirror_mode": {
    "name": "ipython",
    "version": 3
   },
   "file_extension": ".py",
   "mimetype": "text/x-python",
   "name": "python",
   "nbconvert_exporter": "python",
   "pygments_lexer": "ipython3",
   "version": "3.12.3"
  }
 },
 "nbformat": 4,
 "nbformat_minor": 2
}
